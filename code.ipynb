{
 "cells": [
  {
   "cell_type": "code",
   "execution_count": 2,
   "metadata": {},
   "outputs": [],
   "source": [
    "#Task: To try and predict the prices of houses using a rules engine.\n",
    "#      A rules engine is simply a software that takes an input, folows a set of rules and outputs the results. \n",
    "# Type of problem:"
   ]
  },
  {
   "cell_type": "code",
   "execution_count": 1,
   "metadata": {},
   "outputs": [],
   "source": [
    "import pandas as pd \n",
    "import os \n",
    "\n"
   ]
  },
  {
   "cell_type": "code",
   "execution_count": 3,
   "metadata": {},
   "outputs": [
    {
     "data": {
      "text/plain": [
       "'c:\\\\Users\\\\MrCra\\\\Desktop\\\\work\\\\Python\\\\House-real-estate-prediction-\\\\housing.csv'"
      ]
     },
     "execution_count": 3,
     "metadata": {},
     "output_type": "execute_result"
    }
   ],
   "source": [
    "#installing the dataset\n",
    "pwd = os.getcwd() #gets the working directory\n",
    "filepath = os.path.join(pwd, 'housing.csv') # working directory + the housing.csv file makes this filepath \n",
    "filepath"
   ]
  }
 ],
 "metadata": {
  "kernelspec": {
   "display_name": "housingvenv",
   "language": "python",
   "name": "python3"
  },
  "language_info": {
   "codemirror_mode": {
    "name": "ipython",
    "version": 3
   },
   "file_extension": ".py",
   "mimetype": "text/x-python",
   "name": "python",
   "nbconvert_exporter": "python",
   "pygments_lexer": "ipython3",
   "version": "3.9.12"
  }
 },
 "nbformat": 4,
 "nbformat_minor": 2
}
